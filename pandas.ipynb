{
 "cells": [
  {
   "cell_type": "markdown",
   "id": "de55c25b",
   "metadata": {},
   "source": [
    "## Pandas"
   ]
  },
  {
   "cell_type": "markdown",
   "id": "82f77012",
   "metadata": {},
   "source": [
    "pandas is a powerful Data manipulation library in python widely used for Data abalysis, Data cleaning. It provide two primary data structures: Series and DataFrame. A series is a one dimensional array-like object, while Dataframe is a two dimensional, size-mutable, and potentially heterogenous tabular data structures with labeleld axis(rows and columns)"
   ]
  },
  {
   "cell_type": "code",
   "execution_count": 2,
   "id": "88b97e3b",
   "metadata": {},
   "outputs": [],
   "source": [
    "import pandas as pd"
   ]
  },
  {
   "cell_type": "code",
   "execution_count": 3,
   "id": "af1f0372",
   "metadata": {},
   "outputs": [
    {
     "name": "stdout",
     "output_type": "stream",
     "text": [
      "Series: 0    1\n",
      "1    2\n",
      "2    3\n",
      "3    4\n",
      "4    5\n",
      "dtype: int64\n"
     ]
    }
   ],
   "source": [
    "#Series:\n",
    "#Series is a one dimensional array-like object that can hold any data type. It is similar to column in a table.\n",
    "\n",
    "data= [1,2,3,4,5]\n",
    "series= pd.Series(data)\n",
    "print(\"Series:\", series)"
   ]
  },
  {
   "cell_type": "code",
   "execution_count": 4,
   "id": "f9933000",
   "metadata": {},
   "outputs": [
    {
     "name": "stdout",
     "output_type": "stream",
     "text": [
      "a    1\n",
      "b    2\n",
      "c    3\n",
      "dtype: int64\n"
     ]
    }
   ],
   "source": [
    "#Creating a series from dictionary\n",
    "data= {'a':1, 'b':2, 'c':3}\n",
    "Series_dic= pd.Series(data)\n",
    "print(Series_dic)"
   ]
  },
  {
   "cell_type": "code",
   "execution_count": 5,
   "id": "7cf95d61",
   "metadata": {},
   "outputs": [
    {
     "name": "stdout",
     "output_type": "stream",
     "text": [
      "a    1\n",
      "b    2\n",
      "c    3\n",
      "dtype: int64\n"
     ]
    }
   ],
   "source": [
    "#Another way of giving index manually is\n",
    "data=[1,2,3]\n",
    "index= ['a','b','c']\n",
    "indexed_data= pd.Series(data, index=index)\n",
    "print(indexed_data)\n"
   ]
  },
  {
   "cell_type": "code",
   "execution_count": 15,
   "id": "33ee5f58",
   "metadata": {},
   "outputs": [
    {
     "name": "stdout",
     "output_type": "stream",
     "text": [
      "      Name  Age       city\n",
      "0   Areeba   22  Islamabad\n",
      "1  Mahnoor   20  Islamabad\n"
     ]
    }
   ],
   "source": [
    "#Data Frames:\n",
    "#Create a Dataframe form the dictionary of list\n",
    "data= {\n",
    "    'Name': [\"Areeba\", \"Mahnoor\"],\n",
    "     'Age': [22, 20],\n",
    "     'city':[\"Islamabad\", \"Islamabad\"],\n",
    "  }\n",
    "df= pd.DataFrame(data)\n",
    "print(df)"
   ]
  },
  {
   "cell_type": "code",
   "execution_count": 16,
   "id": "ccb25dd6",
   "metadata": {},
   "outputs": [
    {
     "name": "stdout",
     "output_type": "stream",
     "text": [
      "<class 'pandas.core.frame.DataFrame'>\n"
     ]
    }
   ],
   "source": [
    "print(type(df))"
   ]
  },
  {
   "cell_type": "code",
   "execution_count": 17,
   "id": "babddc14",
   "metadata": {},
   "outputs": [
    {
     "data": {
      "text/plain": [
       "array([['Areeba', 22, 'Islamabad'],\n",
       "       ['Mahnoor', 20, 'Islamabad']], dtype=object)"
      ]
     },
     "execution_count": 17,
     "metadata": {},
     "output_type": "execute_result"
    }
   ],
   "source": [
    "#we can also convert this dataframe into numpy array\n",
    "import numpy as np\n",
    "np.array(df)"
   ]
  },
  {
   "cell_type": "code",
   "execution_count": 19,
   "id": "b2bf2f5a",
   "metadata": {},
   "outputs": [
    {
     "name": "stdout",
     "output_type": "stream",
     "text": [
      "      Name  Age       City\n",
      "0   Areeba   22  Islamabad\n",
      "1  Mahnoor   20  Islamabad\n",
      "2    Maria   21   Nowshera\n",
      "3  Malaika   23   Peshawar\n"
     ]
    }
   ],
   "source": [
    "#Now Creating a dataframe from list of dictionaries\n",
    "data= [\n",
    "    {'Name': 'Areeba', 'Age': 22, 'City': 'Islamabad'},\n",
    "    {'Name': 'Mahnoor', 'Age': 20, 'City': 'Islamabad'},\n",
    "    {'Name': 'Maria', 'Age': 21, 'City': 'Nowshera'},\n",
    "    {'Name': 'Malaika', 'Age': 23, 'City': 'Peshawar'},\n",
    "]\n",
    "df= pd.DataFrame(data)\n",
    "print(df)"
   ]
  },
  {
   "cell_type": "code",
   "execution_count": 23,
   "id": "4e8a6fa8",
   "metadata": {},
   "outputs": [
    {
     "name": "stdout",
     "output_type": "stream",
     "text": [
      "     Series_reference   Period  Data_value Suppressed STATUS    UNITS  \\\n",
      "0       BDCQ.SF1AA2CA  2016.06    1116.386        NaN      F  Dollars   \n",
      "1       BDCQ.SF1AA2CA  2016.09    1070.874        NaN      F  Dollars   \n",
      "2       BDCQ.SF1AA2CA  2016.12    1054.408        NaN      F  Dollars   \n",
      "3       BDCQ.SF1AA2CA  2017.03    1010.665        NaN      F  Dollars   \n",
      "4       BDCQ.SF1AA2CA  2017.06    1233.700        NaN      F  Dollars   \n",
      "...               ...      ...         ...        ...    ...      ...   \n",
      "8830     BDCQ.SF8RSCA  2024.06     542.409        NaN      F  Dollars   \n",
      "8831     BDCQ.SF8RSCA  2024.09     612.190        NaN      F  Dollars   \n",
      "8832     BDCQ.SF8RSCA  2024.12     643.976        NaN      F  Dollars   \n",
      "8833     BDCQ.SF8RSCA  2025.03     699.681        NaN      F  Dollars   \n",
      "8834     BDCQ.SF8RSCA  2025.06     587.843        NaN      F  Dollars   \n",
      "\n",
      "      Magnitude                         Subject  \\\n",
      "0             6  Business Data Collection - BDC   \n",
      "1             6  Business Data Collection - BDC   \n",
      "2             6  Business Data Collection - BDC   \n",
      "3             6  Business Data Collection - BDC   \n",
      "4             6  Business Data Collection - BDC   \n",
      "...         ...                             ...   \n",
      "8830          6  Business Data Collection - BDC   \n",
      "8831          6  Business Data Collection - BDC   \n",
      "8832          6  Business Data Collection - BDC   \n",
      "8833          6  Business Data Collection - BDC   \n",
      "8834          6  Business Data Collection - BDC   \n",
      "\n",
      "                                                Group  \\\n",
      "0     Industry by financial variable (NZSIOC Level 2)   \n",
      "1     Industry by financial variable (NZSIOC Level 2)   \n",
      "2     Industry by financial variable (NZSIOC Level 2)   \n",
      "3     Industry by financial variable (NZSIOC Level 2)   \n",
      "4     Industry by financial variable (NZSIOC Level 2)   \n",
      "...                                               ...   \n",
      "8830  Industry by financial variable (NZSIOC Level 1)   \n",
      "8831  Industry by financial variable (NZSIOC Level 1)   \n",
      "8832  Industry by financial variable (NZSIOC Level 1)   \n",
      "8833  Industry by financial variable (NZSIOC Level 1)   \n",
      "8834  Industry by financial variable (NZSIOC Level 1)   \n",
      "\n",
      "                Series_title_1                       Series_title_2  \\\n",
      "0     Sales (operating income)                 Forestry and Logging   \n",
      "1     Sales (operating income)                 Forestry and Logging   \n",
      "2     Sales (operating income)                 Forestry and Logging   \n",
      "3     Sales (operating income)                 Forestry and Logging   \n",
      "4     Sales (operating income)                 Forestry and Logging   \n",
      "...                        ...                                  ...   \n",
      "8830          Operating profit  Arts, Recreation and Other Services   \n",
      "8831          Operating profit  Arts, Recreation and Other Services   \n",
      "8832          Operating profit  Arts, Recreation and Other Services   \n",
      "8833          Operating profit  Arts, Recreation and Other Services   \n",
      "8834          Operating profit  Arts, Recreation and Other Services   \n",
      "\n",
      "      Series_title_3 Series_title_4  Series_title_5  \n",
      "0     Current prices     Unadjusted             NaN  \n",
      "1     Current prices     Unadjusted             NaN  \n",
      "2     Current prices     Unadjusted             NaN  \n",
      "3     Current prices     Unadjusted             NaN  \n",
      "4     Current prices     Unadjusted             NaN  \n",
      "...              ...            ...             ...  \n",
      "8830         Current     Unadjusted             NaN  \n",
      "8831         Current     Unadjusted             NaN  \n",
      "8832         Current     Unadjusted             NaN  \n",
      "8833         Current     Unadjusted             NaN  \n",
      "8834         Current     Unadjusted             NaN  \n",
      "\n",
      "[8835 rows x 14 columns]\n"
     ]
    }
   ],
   "source": [
    "data= pd.read_csv('buisness_data.csv')\n",
    "df= pd.DataFrame(data)\n",
    "print(df)"
   ]
  },
  {
   "cell_type": "code",
   "execution_count": 26,
   "id": "284b5631",
   "metadata": {},
   "outputs": [
    {
     "data": {
      "text/html": [
       "<div>\n",
       "<style scoped>\n",
       "    .dataframe tbody tr th:only-of-type {\n",
       "        vertical-align: middle;\n",
       "    }\n",
       "\n",
       "    .dataframe tbody tr th {\n",
       "        vertical-align: top;\n",
       "    }\n",
       "\n",
       "    .dataframe thead th {\n",
       "        text-align: right;\n",
       "    }\n",
       "</style>\n",
       "<table border=\"1\" class=\"dataframe\">\n",
       "  <thead>\n",
       "    <tr style=\"text-align: right;\">\n",
       "      <th></th>\n",
       "      <th>Series_reference</th>\n",
       "      <th>Period</th>\n",
       "      <th>Data_value</th>\n",
       "      <th>Suppressed</th>\n",
       "      <th>STATUS</th>\n",
       "      <th>UNITS</th>\n",
       "      <th>Magnitude</th>\n",
       "      <th>Subject</th>\n",
       "      <th>Group</th>\n",
       "      <th>Series_title_1</th>\n",
       "      <th>Series_title_2</th>\n",
       "      <th>Series_title_3</th>\n",
       "      <th>Series_title_4</th>\n",
       "      <th>Series_title_5</th>\n",
       "    </tr>\n",
       "  </thead>\n",
       "  <tbody>\n",
       "    <tr>\n",
       "      <th>8830</th>\n",
       "      <td>BDCQ.SF8RSCA</td>\n",
       "      <td>2024.06</td>\n",
       "      <td>542.409</td>\n",
       "      <td>NaN</td>\n",
       "      <td>F</td>\n",
       "      <td>Dollars</td>\n",
       "      <td>6</td>\n",
       "      <td>Business Data Collection - BDC</td>\n",
       "      <td>Industry by financial variable (NZSIOC Level 1)</td>\n",
       "      <td>Operating profit</td>\n",
       "      <td>Arts, Recreation and Other Services</td>\n",
       "      <td>Current</td>\n",
       "      <td>Unadjusted</td>\n",
       "      <td>NaN</td>\n",
       "    </tr>\n",
       "    <tr>\n",
       "      <th>8831</th>\n",
       "      <td>BDCQ.SF8RSCA</td>\n",
       "      <td>2024.09</td>\n",
       "      <td>612.190</td>\n",
       "      <td>NaN</td>\n",
       "      <td>F</td>\n",
       "      <td>Dollars</td>\n",
       "      <td>6</td>\n",
       "      <td>Business Data Collection - BDC</td>\n",
       "      <td>Industry by financial variable (NZSIOC Level 1)</td>\n",
       "      <td>Operating profit</td>\n",
       "      <td>Arts, Recreation and Other Services</td>\n",
       "      <td>Current</td>\n",
       "      <td>Unadjusted</td>\n",
       "      <td>NaN</td>\n",
       "    </tr>\n",
       "    <tr>\n",
       "      <th>8832</th>\n",
       "      <td>BDCQ.SF8RSCA</td>\n",
       "      <td>2024.12</td>\n",
       "      <td>643.976</td>\n",
       "      <td>NaN</td>\n",
       "      <td>F</td>\n",
       "      <td>Dollars</td>\n",
       "      <td>6</td>\n",
       "      <td>Business Data Collection - BDC</td>\n",
       "      <td>Industry by financial variable (NZSIOC Level 1)</td>\n",
       "      <td>Operating profit</td>\n",
       "      <td>Arts, Recreation and Other Services</td>\n",
       "      <td>Current</td>\n",
       "      <td>Unadjusted</td>\n",
       "      <td>NaN</td>\n",
       "    </tr>\n",
       "    <tr>\n",
       "      <th>8833</th>\n",
       "      <td>BDCQ.SF8RSCA</td>\n",
       "      <td>2025.03</td>\n",
       "      <td>699.681</td>\n",
       "      <td>NaN</td>\n",
       "      <td>F</td>\n",
       "      <td>Dollars</td>\n",
       "      <td>6</td>\n",
       "      <td>Business Data Collection - BDC</td>\n",
       "      <td>Industry by financial variable (NZSIOC Level 1)</td>\n",
       "      <td>Operating profit</td>\n",
       "      <td>Arts, Recreation and Other Services</td>\n",
       "      <td>Current</td>\n",
       "      <td>Unadjusted</td>\n",
       "      <td>NaN</td>\n",
       "    </tr>\n",
       "    <tr>\n",
       "      <th>8834</th>\n",
       "      <td>BDCQ.SF8RSCA</td>\n",
       "      <td>2025.06</td>\n",
       "      <td>587.843</td>\n",
       "      <td>NaN</td>\n",
       "      <td>F</td>\n",
       "      <td>Dollars</td>\n",
       "      <td>6</td>\n",
       "      <td>Business Data Collection - BDC</td>\n",
       "      <td>Industry by financial variable (NZSIOC Level 1)</td>\n",
       "      <td>Operating profit</td>\n",
       "      <td>Arts, Recreation and Other Services</td>\n",
       "      <td>Current</td>\n",
       "      <td>Unadjusted</td>\n",
       "      <td>NaN</td>\n",
       "    </tr>\n",
       "  </tbody>\n",
       "</table>\n",
       "</div>"
      ],
      "text/plain": [
       "     Series_reference   Period  Data_value Suppressed STATUS    UNITS  \\\n",
       "8830     BDCQ.SF8RSCA  2024.06     542.409        NaN      F  Dollars   \n",
       "8831     BDCQ.SF8RSCA  2024.09     612.190        NaN      F  Dollars   \n",
       "8832     BDCQ.SF8RSCA  2024.12     643.976        NaN      F  Dollars   \n",
       "8833     BDCQ.SF8RSCA  2025.03     699.681        NaN      F  Dollars   \n",
       "8834     BDCQ.SF8RSCA  2025.06     587.843        NaN      F  Dollars   \n",
       "\n",
       "      Magnitude                         Subject  \\\n",
       "8830          6  Business Data Collection - BDC   \n",
       "8831          6  Business Data Collection - BDC   \n",
       "8832          6  Business Data Collection - BDC   \n",
       "8833          6  Business Data Collection - BDC   \n",
       "8834          6  Business Data Collection - BDC   \n",
       "\n",
       "                                                Group    Series_title_1  \\\n",
       "8830  Industry by financial variable (NZSIOC Level 1)  Operating profit   \n",
       "8831  Industry by financial variable (NZSIOC Level 1)  Operating profit   \n",
       "8832  Industry by financial variable (NZSIOC Level 1)  Operating profit   \n",
       "8833  Industry by financial variable (NZSIOC Level 1)  Operating profit   \n",
       "8834  Industry by financial variable (NZSIOC Level 1)  Operating profit   \n",
       "\n",
       "                           Series_title_2 Series_title_3 Series_title_4  \\\n",
       "8830  Arts, Recreation and Other Services        Current     Unadjusted   \n",
       "8831  Arts, Recreation and Other Services        Current     Unadjusted   \n",
       "8832  Arts, Recreation and Other Services        Current     Unadjusted   \n",
       "8833  Arts, Recreation and Other Services        Current     Unadjusted   \n",
       "8834  Arts, Recreation and Other Services        Current     Unadjusted   \n",
       "\n",
       "      Series_title_5  \n",
       "8830             NaN  \n",
       "8831             NaN  \n",
       "8832             NaN  \n",
       "8833             NaN  \n",
       "8834             NaN  "
      ]
     },
     "execution_count": 26,
     "metadata": {},
     "output_type": "execute_result"
    }
   ],
   "source": [
    "#if I want to see last 5 records\n",
    "df.tail()"
   ]
  },
  {
   "cell_type": "code",
   "execution_count": 27,
   "id": "667e8ef4",
   "metadata": {},
   "outputs": [
    {
     "data": {
      "text/html": [
       "<div>\n",
       "<style scoped>\n",
       "    .dataframe tbody tr th:only-of-type {\n",
       "        vertical-align: middle;\n",
       "    }\n",
       "\n",
       "    .dataframe tbody tr th {\n",
       "        vertical-align: top;\n",
       "    }\n",
       "\n",
       "    .dataframe thead th {\n",
       "        text-align: right;\n",
       "    }\n",
       "</style>\n",
       "<table border=\"1\" class=\"dataframe\">\n",
       "  <thead>\n",
       "    <tr style=\"text-align: right;\">\n",
       "      <th></th>\n",
       "      <th>Series_reference</th>\n",
       "      <th>Period</th>\n",
       "      <th>Data_value</th>\n",
       "      <th>Suppressed</th>\n",
       "      <th>STATUS</th>\n",
       "      <th>UNITS</th>\n",
       "      <th>Magnitude</th>\n",
       "      <th>Subject</th>\n",
       "      <th>Group</th>\n",
       "      <th>Series_title_1</th>\n",
       "      <th>Series_title_2</th>\n",
       "      <th>Series_title_3</th>\n",
       "      <th>Series_title_4</th>\n",
       "      <th>Series_title_5</th>\n",
       "    </tr>\n",
       "  </thead>\n",
       "  <tbody>\n",
       "    <tr>\n",
       "      <th>0</th>\n",
       "      <td>BDCQ.SF1AA2CA</td>\n",
       "      <td>2016.06</td>\n",
       "      <td>1116.386</td>\n",
       "      <td>NaN</td>\n",
       "      <td>F</td>\n",
       "      <td>Dollars</td>\n",
       "      <td>6</td>\n",
       "      <td>Business Data Collection - BDC</td>\n",
       "      <td>Industry by financial variable (NZSIOC Level 2)</td>\n",
       "      <td>Sales (operating income)</td>\n",
       "      <td>Forestry and Logging</td>\n",
       "      <td>Current prices</td>\n",
       "      <td>Unadjusted</td>\n",
       "      <td>NaN</td>\n",
       "    </tr>\n",
       "    <tr>\n",
       "      <th>1</th>\n",
       "      <td>BDCQ.SF1AA2CA</td>\n",
       "      <td>2016.09</td>\n",
       "      <td>1070.874</td>\n",
       "      <td>NaN</td>\n",
       "      <td>F</td>\n",
       "      <td>Dollars</td>\n",
       "      <td>6</td>\n",
       "      <td>Business Data Collection - BDC</td>\n",
       "      <td>Industry by financial variable (NZSIOC Level 2)</td>\n",
       "      <td>Sales (operating income)</td>\n",
       "      <td>Forestry and Logging</td>\n",
       "      <td>Current prices</td>\n",
       "      <td>Unadjusted</td>\n",
       "      <td>NaN</td>\n",
       "    </tr>\n",
       "    <tr>\n",
       "      <th>2</th>\n",
       "      <td>BDCQ.SF1AA2CA</td>\n",
       "      <td>2016.12</td>\n",
       "      <td>1054.408</td>\n",
       "      <td>NaN</td>\n",
       "      <td>F</td>\n",
       "      <td>Dollars</td>\n",
       "      <td>6</td>\n",
       "      <td>Business Data Collection - BDC</td>\n",
       "      <td>Industry by financial variable (NZSIOC Level 2)</td>\n",
       "      <td>Sales (operating income)</td>\n",
       "      <td>Forestry and Logging</td>\n",
       "      <td>Current prices</td>\n",
       "      <td>Unadjusted</td>\n",
       "      <td>NaN</td>\n",
       "    </tr>\n",
       "    <tr>\n",
       "      <th>3</th>\n",
       "      <td>BDCQ.SF1AA2CA</td>\n",
       "      <td>2017.03</td>\n",
       "      <td>1010.665</td>\n",
       "      <td>NaN</td>\n",
       "      <td>F</td>\n",
       "      <td>Dollars</td>\n",
       "      <td>6</td>\n",
       "      <td>Business Data Collection - BDC</td>\n",
       "      <td>Industry by financial variable (NZSIOC Level 2)</td>\n",
       "      <td>Sales (operating income)</td>\n",
       "      <td>Forestry and Logging</td>\n",
       "      <td>Current prices</td>\n",
       "      <td>Unadjusted</td>\n",
       "      <td>NaN</td>\n",
       "    </tr>\n",
       "    <tr>\n",
       "      <th>4</th>\n",
       "      <td>BDCQ.SF1AA2CA</td>\n",
       "      <td>2017.06</td>\n",
       "      <td>1233.700</td>\n",
       "      <td>NaN</td>\n",
       "      <td>F</td>\n",
       "      <td>Dollars</td>\n",
       "      <td>6</td>\n",
       "      <td>Business Data Collection - BDC</td>\n",
       "      <td>Industry by financial variable (NZSIOC Level 2)</td>\n",
       "      <td>Sales (operating income)</td>\n",
       "      <td>Forestry and Logging</td>\n",
       "      <td>Current prices</td>\n",
       "      <td>Unadjusted</td>\n",
       "      <td>NaN</td>\n",
       "    </tr>\n",
       "  </tbody>\n",
       "</table>\n",
       "</div>"
      ],
      "text/plain": [
       "  Series_reference   Period  Data_value Suppressed STATUS    UNITS  Magnitude  \\\n",
       "0    BDCQ.SF1AA2CA  2016.06    1116.386        NaN      F  Dollars          6   \n",
       "1    BDCQ.SF1AA2CA  2016.09    1070.874        NaN      F  Dollars          6   \n",
       "2    BDCQ.SF1AA2CA  2016.12    1054.408        NaN      F  Dollars          6   \n",
       "3    BDCQ.SF1AA2CA  2017.03    1010.665        NaN      F  Dollars          6   \n",
       "4    BDCQ.SF1AA2CA  2017.06    1233.700        NaN      F  Dollars          6   \n",
       "\n",
       "                          Subject  \\\n",
       "0  Business Data Collection - BDC   \n",
       "1  Business Data Collection - BDC   \n",
       "2  Business Data Collection - BDC   \n",
       "3  Business Data Collection - BDC   \n",
       "4  Business Data Collection - BDC   \n",
       "\n",
       "                                             Group            Series_title_1  \\\n",
       "0  Industry by financial variable (NZSIOC Level 2)  Sales (operating income)   \n",
       "1  Industry by financial variable (NZSIOC Level 2)  Sales (operating income)   \n",
       "2  Industry by financial variable (NZSIOC Level 2)  Sales (operating income)   \n",
       "3  Industry by financial variable (NZSIOC Level 2)  Sales (operating income)   \n",
       "4  Industry by financial variable (NZSIOC Level 2)  Sales (operating income)   \n",
       "\n",
       "         Series_title_2  Series_title_3 Series_title_4  Series_title_5  \n",
       "0  Forestry and Logging  Current prices     Unadjusted             NaN  \n",
       "1  Forestry and Logging  Current prices     Unadjusted             NaN  \n",
       "2  Forestry and Logging  Current prices     Unadjusted             NaN  \n",
       "3  Forestry and Logging  Current prices     Unadjusted             NaN  \n",
       "4  Forestry and Logging  Current prices     Unadjusted             NaN  "
      ]
     },
     "execution_count": 27,
     "metadata": {},
     "output_type": "execute_result"
    }
   ],
   "source": [
    "\n",
    "#if I want to see the first 5 records\n",
    "df.head()"
   ]
  },
  {
   "cell_type": "code",
   "execution_count": 77,
   "id": "19769034",
   "metadata": {},
   "outputs": [
    {
     "data": {
      "text/html": [
       "<div>\n",
       "<style scoped>\n",
       "    .dataframe tbody tr th:only-of-type {\n",
       "        vertical-align: middle;\n",
       "    }\n",
       "\n",
       "    .dataframe tbody tr th {\n",
       "        vertical-align: top;\n",
       "    }\n",
       "\n",
       "    .dataframe thead th {\n",
       "        text-align: right;\n",
       "    }\n",
       "</style>\n",
       "<table border=\"1\" class=\"dataframe\">\n",
       "  <thead>\n",
       "    <tr style=\"text-align: right;\">\n",
       "      <th></th>\n",
       "      <th>Name</th>\n",
       "      <th>Age</th>\n",
       "      <th>City</th>\n",
       "    </tr>\n",
       "  </thead>\n",
       "  <tbody>\n",
       "    <tr>\n",
       "      <th>0</th>\n",
       "      <td>Areeba</td>\n",
       "      <td>22</td>\n",
       "      <td>Islamabad</td>\n",
       "    </tr>\n",
       "    <tr>\n",
       "      <th>1</th>\n",
       "      <td>Mahnoor</td>\n",
       "      <td>20</td>\n",
       "      <td>Islamabad</td>\n",
       "    </tr>\n",
       "    <tr>\n",
       "      <th>2</th>\n",
       "      <td>Maria</td>\n",
       "      <td>21</td>\n",
       "      <td>Nowshera</td>\n",
       "    </tr>\n",
       "    <tr>\n",
       "      <th>3</th>\n",
       "      <td>Malaika</td>\n",
       "      <td>23</td>\n",
       "      <td>Peshawar</td>\n",
       "    </tr>\n",
       "  </tbody>\n",
       "</table>\n",
       "</div>"
      ],
      "text/plain": [
       "      Name  Age       City\n",
       "0   Areeba   22  Islamabad\n",
       "1  Mahnoor   20  Islamabad\n",
       "2    Maria   21   Nowshera\n",
       "3  Malaika   23   Peshawar"
      ]
     },
     "execution_count": 77,
     "metadata": {},
     "output_type": "execute_result"
    }
   ],
   "source": [
    "#Acceesing data from dataframe\n",
    "\n",
    "data= [\n",
    "    {'Name': 'Areeba', 'Age': 22, 'City': 'Islamabad'},\n",
    "    {'Name': 'Mahnoor', 'Age': 20, 'City': 'Islamabad'},\n",
    "    {'Name': 'Maria', 'Age': 21, 'City': 'Nowshera'},\n",
    "    {'Name': 'Malaika', 'Age': 23, 'City': 'Peshawar'},\n",
    "]\n",
    "df= pd.DataFrame(data)\n",
    "df"
   ]
  },
  {
   "cell_type": "code",
   "execution_count": 78,
   "id": "9058edab",
   "metadata": {},
   "outputs": [
    {
     "name": "stdout",
     "output_type": "stream",
     "text": [
      "0     Areeba\n",
      "1    Mahnoor\n",
      "2      Maria\n",
      "3    Malaika\n",
      "Name: Name, dtype: object\n"
     ]
    },
    {
     "data": {
      "text/plain": [
       "pandas.core.series.Series"
      ]
     },
     "execution_count": 78,
     "metadata": {},
     "output_type": "execute_result"
    }
   ],
   "source": [
    "print(df['Name']) #Accessing the data from dataframe\n",
    "type(df['Name']) #When we access a single column from dataframe it automatically becomes a series"
   ]
  },
  {
   "cell_type": "code",
   "execution_count": 79,
   "id": "3f166d77",
   "metadata": {},
   "outputs": [
    {
     "name": "stdout",
     "output_type": "stream",
     "text": [
      "Name       Areeba\n",
      "Age            22\n",
      "City    Islamabad\n",
      "Name: 0, dtype: object\n"
     ]
    }
   ],
   "source": [
    "print(df.loc[0]) #it will display everything located at index 0"
   ]
  },
  {
   "cell_type": "code",
   "execution_count": 80,
   "id": "74bc621d",
   "metadata": {},
   "outputs": [
    {
     "name": "stderr",
     "output_type": "stream",
     "text": [
      "C:\\Users\\Dell\\AppData\\Local\\Temp\\ipykernel_11440\\1559598799.py:1: FutureWarning: Series.__getitem__ treating keys as positions is deprecated. In a future version, integer keys will always be treated as labels (consistent with DataFrame behavior). To access a value by position, use `ser.iloc[pos]`\n",
      "  df.loc[0][0]#it will show the data on row 0 column 0 but will also give a warning\n"
     ]
    },
    {
     "data": {
      "text/plain": [
       "'Areeba'"
      ]
     },
     "execution_count": 80,
     "metadata": {},
     "output_type": "execute_result"
    }
   ],
   "source": [
    "df.loc[0][0]#it will show the data on row 0 column 0 but will also give a warning"
   ]
  },
  {
   "cell_type": "code",
   "execution_count": 81,
   "id": "e5ad5443",
   "metadata": {},
   "outputs": [
    {
     "name": "stderr",
     "output_type": "stream",
     "text": [
      "C:\\Users\\Dell\\AppData\\Local\\Temp\\ipykernel_11440\\2900375399.py:1: FutureWarning: Series.__getitem__ treating keys as positions is deprecated. In a future version, integer keys will always be treated as labels (consistent with DataFrame behavior). To access a value by position, use `ser.iloc[pos]`\n",
      "  df.iloc[0][0]\n"
     ]
    },
    {
     "data": {
      "text/plain": [
       "'Areeba'"
      ]
     },
     "execution_count": 81,
     "metadata": {},
     "output_type": "execute_result"
    }
   ],
   "source": [
    "df.iloc[0][0]"
   ]
  },
  {
   "cell_type": "code",
   "execution_count": 82,
   "id": "cfea020c",
   "metadata": {},
   "outputs": [
    {
     "data": {
      "text/plain": [
       "0     Areeba\n",
       "1    Mahnoor\n",
       "2      Maria\n",
       "3    Malaika\n",
       "Name: Name, dtype: object"
      ]
     },
     "execution_count": 82,
     "metadata": {},
     "output_type": "execute_result"
    }
   ],
   "source": [
    "#Accing a specified elemnts\n",
    "df['Name']"
   ]
  },
  {
   "cell_type": "code",
   "execution_count": 83,
   "id": "8b976950",
   "metadata": {},
   "outputs": [
    {
     "name": "stdout",
     "output_type": "stream",
     "text": [
      "      Name  Age       City\n",
      "0   Areeba   22  Islamabad\n",
      "1  Mahnoor   20  Islamabad\n",
      "2    Maria   21   Nowshera\n",
      "3  Malaika   23   Peshawar\n",
      "20\n"
     ]
    }
   ],
   "source": [
    "print(df)\n",
    "print(df.at[1,'Age'])"
   ]
  },
  {
   "cell_type": "code",
   "execution_count": 84,
   "id": "2c12f250",
   "metadata": {},
   "outputs": [
    {
     "name": "stdout",
     "output_type": "stream",
     "text": [
      "Nowshera\n"
     ]
    }
   ],
   "source": [
    "print(df.at[2,'City'])"
   ]
  },
  {
   "cell_type": "code",
   "execution_count": 85,
   "id": "5315d437",
   "metadata": {},
   "outputs": [
    {
     "data": {
      "text/plain": [
       "'Peshawar'"
      ]
     },
     "execution_count": 85,
     "metadata": {},
     "output_type": "execute_result"
    }
   ],
   "source": [
    "df.iat[3,2]"
   ]
  },
  {
   "cell_type": "code",
   "execution_count": 86,
   "id": "b4c01572",
   "metadata": {},
   "outputs": [
    {
     "data": {
      "text/html": [
       "<div>\n",
       "<style scoped>\n",
       "    .dataframe tbody tr th:only-of-type {\n",
       "        vertical-align: middle;\n",
       "    }\n",
       "\n",
       "    .dataframe tbody tr th {\n",
       "        vertical-align: top;\n",
       "    }\n",
       "\n",
       "    .dataframe thead th {\n",
       "        text-align: right;\n",
       "    }\n",
       "</style>\n",
       "<table border=\"1\" class=\"dataframe\">\n",
       "  <thead>\n",
       "    <tr style=\"text-align: right;\">\n",
       "      <th></th>\n",
       "      <th>Name</th>\n",
       "      <th>Age</th>\n",
       "      <th>City</th>\n",
       "    </tr>\n",
       "  </thead>\n",
       "  <tbody>\n",
       "    <tr>\n",
       "      <th>0</th>\n",
       "      <td>Areeba</td>\n",
       "      <td>22</td>\n",
       "      <td>Islamabad</td>\n",
       "    </tr>\n",
       "    <tr>\n",
       "      <th>1</th>\n",
       "      <td>Mahnoor</td>\n",
       "      <td>20</td>\n",
       "      <td>Islamabad</td>\n",
       "    </tr>\n",
       "    <tr>\n",
       "      <th>2</th>\n",
       "      <td>Maria</td>\n",
       "      <td>21</td>\n",
       "      <td>Nowshera</td>\n",
       "    </tr>\n",
       "    <tr>\n",
       "      <th>3</th>\n",
       "      <td>Malaika</td>\n",
       "      <td>23</td>\n",
       "      <td>Peshawar</td>\n",
       "    </tr>\n",
       "  </tbody>\n",
       "</table>\n",
       "</div>"
      ],
      "text/plain": [
       "      Name  Age       City\n",
       "0   Areeba   22  Islamabad\n",
       "1  Mahnoor   20  Islamabad\n",
       "2    Maria   21   Nowshera\n",
       "3  Malaika   23   Peshawar"
      ]
     },
     "execution_count": 86,
     "metadata": {},
     "output_type": "execute_result"
    }
   ],
   "source": [
    "df"
   ]
  },
  {
   "cell_type": "code",
   "execution_count": 87,
   "id": "d2681a2c",
   "metadata": {},
   "outputs": [
    {
     "data": {
      "text/html": [
       "<div>\n",
       "<style scoped>\n",
       "    .dataframe tbody tr th:only-of-type {\n",
       "        vertical-align: middle;\n",
       "    }\n",
       "\n",
       "    .dataframe tbody tr th {\n",
       "        vertical-align: top;\n",
       "    }\n",
       "\n",
       "    .dataframe thead th {\n",
       "        text-align: right;\n",
       "    }\n",
       "</style>\n",
       "<table border=\"1\" class=\"dataframe\">\n",
       "  <thead>\n",
       "    <tr style=\"text-align: right;\">\n",
       "      <th></th>\n",
       "      <th>Name</th>\n",
       "      <th>Age</th>\n",
       "      <th>City</th>\n",
       "      <th>Salary</th>\n",
       "    </tr>\n",
       "  </thead>\n",
       "  <tbody>\n",
       "    <tr>\n",
       "      <th>0</th>\n",
       "      <td>Areeba</td>\n",
       "      <td>22</td>\n",
       "      <td>Islamabad</td>\n",
       "      <td>50000</td>\n",
       "    </tr>\n",
       "    <tr>\n",
       "      <th>1</th>\n",
       "      <td>Mahnoor</td>\n",
       "      <td>20</td>\n",
       "      <td>Islamabad</td>\n",
       "      <td>45000</td>\n",
       "    </tr>\n",
       "    <tr>\n",
       "      <th>2</th>\n",
       "      <td>Maria</td>\n",
       "      <td>21</td>\n",
       "      <td>Nowshera</td>\n",
       "      <td>70000</td>\n",
       "    </tr>\n",
       "    <tr>\n",
       "      <th>3</th>\n",
       "      <td>Malaika</td>\n",
       "      <td>23</td>\n",
       "      <td>Peshawar</td>\n",
       "      <td>80000</td>\n",
       "    </tr>\n",
       "  </tbody>\n",
       "</table>\n",
       "</div>"
      ],
      "text/plain": [
       "      Name  Age       City  Salary\n",
       "0   Areeba   22  Islamabad   50000\n",
       "1  Mahnoor   20  Islamabad   45000\n",
       "2    Maria   21   Nowshera   70000\n",
       "3  Malaika   23   Peshawar   80000"
      ]
     },
     "execution_count": 87,
     "metadata": {},
     "output_type": "execute_result"
    }
   ],
   "source": [
    "#Data MAnipulation with dataframe\n",
    "df['Salary']= [50000,45000,70000,80000] #Added a new column\n",
    "df"
   ]
  },
  {
   "cell_type": "code",
   "execution_count": 88,
   "id": "e01b1217",
   "metadata": {},
   "outputs": [
    {
     "data": {
      "text/html": [
       "<div>\n",
       "<style scoped>\n",
       "    .dataframe tbody tr th:only-of-type {\n",
       "        vertical-align: middle;\n",
       "    }\n",
       "\n",
       "    .dataframe tbody tr th {\n",
       "        vertical-align: top;\n",
       "    }\n",
       "\n",
       "    .dataframe thead th {\n",
       "        text-align: right;\n",
       "    }\n",
       "</style>\n",
       "<table border=\"1\" class=\"dataframe\">\n",
       "  <thead>\n",
       "    <tr style=\"text-align: right;\">\n",
       "      <th></th>\n",
       "      <th>Name</th>\n",
       "      <th>City</th>\n",
       "      <th>Salary</th>\n",
       "    </tr>\n",
       "  </thead>\n",
       "  <tbody>\n",
       "    <tr>\n",
       "      <th>0</th>\n",
       "      <td>Areeba</td>\n",
       "      <td>Islamabad</td>\n",
       "      <td>50000</td>\n",
       "    </tr>\n",
       "    <tr>\n",
       "      <th>1</th>\n",
       "      <td>Mahnoor</td>\n",
       "      <td>Islamabad</td>\n",
       "      <td>45000</td>\n",
       "    </tr>\n",
       "    <tr>\n",
       "      <th>2</th>\n",
       "      <td>Maria</td>\n",
       "      <td>Nowshera</td>\n",
       "      <td>70000</td>\n",
       "    </tr>\n",
       "    <tr>\n",
       "      <th>3</th>\n",
       "      <td>Malaika</td>\n",
       "      <td>Peshawar</td>\n",
       "      <td>80000</td>\n",
       "    </tr>\n",
       "  </tbody>\n",
       "</table>\n",
       "</div>"
      ],
      "text/plain": [
       "      Name       City  Salary\n",
       "0   Areeba  Islamabad   50000\n",
       "1  Mahnoor  Islamabad   45000\n",
       "2    Maria   Nowshera   70000\n",
       "3  Malaika   Peshawar   80000"
      ]
     },
     "execution_count": 88,
     "metadata": {},
     "output_type": "execute_result"
    }
   ],
   "source": [
    "df.drop('Age', axis=1) #Axis=1 will allow it to check the column wise data"
   ]
  },
  {
   "cell_type": "code",
   "execution_count": 74,
   "id": "cae58349",
   "metadata": {},
   "outputs": [
    {
     "data": {
      "text/html": [
       "<div>\n",
       "<style scoped>\n",
       "    .dataframe tbody tr th:only-of-type {\n",
       "        vertical-align: middle;\n",
       "    }\n",
       "\n",
       "    .dataframe tbody tr th {\n",
       "        vertical-align: top;\n",
       "    }\n",
       "\n",
       "    .dataframe thead th {\n",
       "        text-align: right;\n",
       "    }\n",
       "</style>\n",
       "<table border=\"1\" class=\"dataframe\">\n",
       "  <thead>\n",
       "    <tr style=\"text-align: right;\">\n",
       "      <th></th>\n",
       "      <th>Name</th>\n",
       "      <th>City</th>\n",
       "      <th>Salary</th>\n",
       "    </tr>\n",
       "  </thead>\n",
       "  <tbody>\n",
       "    <tr>\n",
       "      <th>0</th>\n",
       "      <td>Areeba</td>\n",
       "      <td>Islamabad</td>\n",
       "      <td>90002</td>\n",
       "    </tr>\n",
       "    <tr>\n",
       "      <th>1</th>\n",
       "      <td>Mahnoor</td>\n",
       "      <td>Islamabad</td>\n",
       "      <td>85002</td>\n",
       "    </tr>\n",
       "    <tr>\n",
       "      <th>2</th>\n",
       "      <td>Maria</td>\n",
       "      <td>Nowshera</td>\n",
       "      <td>110002</td>\n",
       "    </tr>\n",
       "    <tr>\n",
       "      <th>3</th>\n",
       "      <td>Malaika</td>\n",
       "      <td>Peshawar</td>\n",
       "      <td>120002</td>\n",
       "    </tr>\n",
       "  </tbody>\n",
       "</table>\n",
       "</div>"
      ],
      "text/plain": [
       "      Name       City  Salary\n",
       "0   Areeba  Islamabad   90002\n",
       "1  Mahnoor  Islamabad   85002\n",
       "2    Maria   Nowshera  110002\n",
       "3  Malaika   Peshawar  120002"
      ]
     },
     "execution_count": 74,
     "metadata": {},
     "output_type": "execute_result"
    }
   ],
   "source": [
    "df #Age column is still there it means drop is just a temporary operation it would not affect the actual df"
   ]
  },
  {
   "cell_type": "code",
   "execution_count": 90,
   "id": "e258a5bb",
   "metadata": {},
   "outputs": [],
   "source": [
    "df.drop('Age', axis=1, inplace=True) #if we permenantly want to del a column or element we need to use inplace= True"
   ]
  },
  {
   "cell_type": "code",
   "execution_count": 91,
   "id": "bd32b5ba",
   "metadata": {},
   "outputs": [
    {
     "data": {
      "text/html": [
       "<div>\n",
       "<style scoped>\n",
       "    .dataframe tbody tr th:only-of-type {\n",
       "        vertical-align: middle;\n",
       "    }\n",
       "\n",
       "    .dataframe tbody tr th {\n",
       "        vertical-align: top;\n",
       "    }\n",
       "\n",
       "    .dataframe thead th {\n",
       "        text-align: right;\n",
       "    }\n",
       "</style>\n",
       "<table border=\"1\" class=\"dataframe\">\n",
       "  <thead>\n",
       "    <tr style=\"text-align: right;\">\n",
       "      <th></th>\n",
       "      <th>Name</th>\n",
       "      <th>City</th>\n",
       "      <th>Salary</th>\n",
       "    </tr>\n",
       "  </thead>\n",
       "  <tbody>\n",
       "    <tr>\n",
       "      <th>0</th>\n",
       "      <td>Areeba</td>\n",
       "      <td>Islamabad</td>\n",
       "      <td>50000</td>\n",
       "    </tr>\n",
       "    <tr>\n",
       "      <th>1</th>\n",
       "      <td>Mahnoor</td>\n",
       "      <td>Islamabad</td>\n",
       "      <td>45000</td>\n",
       "    </tr>\n",
       "    <tr>\n",
       "      <th>2</th>\n",
       "      <td>Maria</td>\n",
       "      <td>Nowshera</td>\n",
       "      <td>70000</td>\n",
       "    </tr>\n",
       "    <tr>\n",
       "      <th>3</th>\n",
       "      <td>Malaika</td>\n",
       "      <td>Peshawar</td>\n",
       "      <td>80000</td>\n",
       "    </tr>\n",
       "  </tbody>\n",
       "</table>\n",
       "</div>"
      ],
      "text/plain": [
       "      Name       City  Salary\n",
       "0   Areeba  Islamabad   50000\n",
       "1  Mahnoor  Islamabad   45000\n",
       "2    Maria   Nowshera   70000\n",
       "3  Malaika   Peshawar   80000"
      ]
     },
     "execution_count": 91,
     "metadata": {},
     "output_type": "execute_result"
    }
   ],
   "source": [
    "df #Now the age column is permenantly deleted"
   ]
  },
  {
   "cell_type": "code",
   "execution_count": 93,
   "id": "53e05efc",
   "metadata": {},
   "outputs": [
    {
     "data": {
      "text/html": [
       "<div>\n",
       "<style scoped>\n",
       "    .dataframe tbody tr th:only-of-type {\n",
       "        vertical-align: middle;\n",
       "    }\n",
       "\n",
       "    .dataframe tbody tr th {\n",
       "        vertical-align: top;\n",
       "    }\n",
       "\n",
       "    .dataframe thead th {\n",
       "        text-align: right;\n",
       "    }\n",
       "</style>\n",
       "<table border=\"1\" class=\"dataframe\">\n",
       "  <thead>\n",
       "    <tr style=\"text-align: right;\">\n",
       "      <th></th>\n",
       "      <th>Name</th>\n",
       "      <th>City</th>\n",
       "      <th>Salary</th>\n",
       "    </tr>\n",
       "  </thead>\n",
       "  <tbody>\n",
       "    <tr>\n",
       "      <th>0</th>\n",
       "      <td>Areeba</td>\n",
       "      <td>Islamabad</td>\n",
       "      <td>52000</td>\n",
       "    </tr>\n",
       "    <tr>\n",
       "      <th>1</th>\n",
       "      <td>Mahnoor</td>\n",
       "      <td>Islamabad</td>\n",
       "      <td>47000</td>\n",
       "    </tr>\n",
       "    <tr>\n",
       "      <th>2</th>\n",
       "      <td>Maria</td>\n",
       "      <td>Nowshera</td>\n",
       "      <td>72000</td>\n",
       "    </tr>\n",
       "    <tr>\n",
       "      <th>3</th>\n",
       "      <td>Malaika</td>\n",
       "      <td>Peshawar</td>\n",
       "      <td>82000</td>\n",
       "    </tr>\n",
       "  </tbody>\n",
       "</table>\n",
       "</div>"
      ],
      "text/plain": [
       "      Name       City  Salary\n",
       "0   Areeba  Islamabad   52000\n",
       "1  Mahnoor  Islamabad   47000\n",
       "2    Maria   Nowshera   72000\n",
       "3  Malaika   Peshawar   82000"
      ]
     },
     "execution_count": 93,
     "metadata": {},
     "output_type": "execute_result"
    }
   ],
   "source": [
    "#Add more salry to the column salary\n",
    "df['Salary']=df['Salary']+2000\n",
    "df"
   ]
  },
  {
   "cell_type": "code",
   "execution_count": null,
   "id": "8d36f862",
   "metadata": {},
   "outputs": [],
   "source": []
  }
 ],
 "metadata": {
  "kernelspec": {
   "display_name": "Python 3",
   "language": "python",
   "name": "python3"
  },
  "language_info": {
   "codemirror_mode": {
    "name": "ipython",
    "version": 3
   },
   "file_extension": ".py",
   "mimetype": "text/x-python",
   "name": "python",
   "nbconvert_exporter": "python",
   "pygments_lexer": "ipython3",
   "version": "3.13.5"
  }
 },
 "nbformat": 4,
 "nbformat_minor": 5
}
