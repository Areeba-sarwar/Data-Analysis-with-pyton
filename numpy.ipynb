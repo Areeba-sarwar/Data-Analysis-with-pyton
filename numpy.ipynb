{
 "cells": [
  {
   "cell_type": "markdown",
   "id": "5a0df3ac",
   "metadata": {},
   "source": [
    "### Numpy:"
   ]
  },
  {
   "cell_type": "markdown",
   "id": "74501e2b",
   "metadata": {},
   "source": [
    "Numpy is the fundamental library for scientific computation in python. It provide support for arrays and matrices along with the collection of mathematical functions to operate on these data structures. In this lesson we will cover the basics of Numpy, focusing on arrays and vectorixed operations."
   ]
  },
  {
   "cell_type": "code",
   "execution_count": 2,
   "id": "3433fa0b",
   "metadata": {},
   "outputs": [],
   "source": [
    "import numpy as np"
   ]
  },
  {
   "cell_type": "code",
   "execution_count": 3,
   "id": "171f09f6",
   "metadata": {},
   "outputs": [
    {
     "name": "stdout",
     "output_type": "stream",
     "text": [
      "[1 2 3 4 5 6]\n",
      "<class 'numpy.ndarray'>\n",
      "(6,)\n"
     ]
    }
   ],
   "source": [
    "## Creating Arrays using numpy\n",
    "\n",
    "#Creat a 1D Array\n",
    "arr1= np.array([1,2,3,4,5,6])\n",
    "print(arr1)\n",
    "print(type(arr1))\n",
    "print(arr1.shape)\n"
   ]
  },
  {
   "cell_type": "code",
   "execution_count": null,
   "id": "af81ef60",
   "metadata": {},
   "outputs": [
    {
     "data": {
      "text/plain": [
       "array([[1, 2, 3, 4, 5]])"
      ]
     },
     "execution_count": 9,
     "metadata": {},
     "output_type": "execute_result"
    }
   ],
   "source": [
    "## Reshaping array into two dimensional array\n",
    "arr2= np.array([1,2,3,4,5])\n",
    "arr2.reshape(1,5) #It will reshape array into 1 row and 5 column...\n"
   ]
  },
  {
   "cell_type": "code",
   "execution_count": 11,
   "id": "626c6199",
   "metadata": {},
   "outputs": [
    {
     "data": {
      "text/plain": [
       "(1, 5)"
      ]
     },
     "execution_count": 11,
     "metadata": {},
     "output_type": "execute_result"
    }
   ],
   "source": [
    "#We can create it directlt \n",
    "\n",
    "arr2= np.array([[1,2,3,4,5]])\n",
    "arr2.shape"
   ]
  },
  {
   "cell_type": "code",
   "execution_count": 16,
   "id": "fbca1bcd",
   "metadata": {},
   "outputs": [
    {
     "name": "stdout",
     "output_type": "stream",
     "text": [
      "[[ 1  2  3  4  5]\n",
      " [ 6  7  8  9 10]]\n",
      "(2, 5)\n"
     ]
    }
   ],
   "source": [
    "# adding multiple rows\n",
    "\n",
    "arr2= np.array([[1,2,3,4,5], [6,7,8,9,10]])\n",
    "print(arr2)\n",
    "print(arr2.shape) #Now it will display 2 rows and 5 columns"
   ]
  },
  {
   "cell_type": "code",
   "execution_count": 19,
   "id": "570dabe5",
   "metadata": {},
   "outputs": [
    {
     "data": {
      "text/plain": [
       "array([[0],\n",
       "       [2],\n",
       "       [4],\n",
       "       [6],\n",
       "       [8]])"
      ]
     },
     "execution_count": 19,
     "metadata": {},
     "output_type": "execute_result"
    }
   ],
   "source": [
    "np.arange(0,10,2).reshape(5,1)"
   ]
  },
  {
   "cell_type": "code",
   "execution_count": 21,
   "id": "b46c0a10",
   "metadata": {},
   "outputs": [
    {
     "data": {
      "text/plain": [
       "array([[1., 1., 1., 1., 1.],\n",
       "       [1., 1., 1., 1., 1.],\n",
       "       [1., 1., 1., 1., 1.],\n",
       "       [1., 1., 1., 1., 1.]])"
      ]
     },
     "execution_count": 21,
     "metadata": {},
     "output_type": "execute_result"
    }
   ],
   "source": [
    "np.ones((4,5))"
   ]
  },
  {
   "cell_type": "code",
   "execution_count": 25,
   "id": "5b7d3220",
   "metadata": {},
   "outputs": [
    {
     "data": {
      "text/plain": [
       "array([[1., 0., 0., 0.],\n",
       "       [0., 1., 0., 0.],\n",
       "       [0., 0., 1., 0.],\n",
       "       [0., 0., 0., 1.]])"
      ]
     },
     "execution_count": 25,
     "metadata": {},
     "output_type": "execute_result"
    }
   ],
   "source": [
    "#Creating an identity matrix\n",
    "np.eye(4)"
   ]
  },
  {
   "cell_type": "code",
   "execution_count": null,
   "id": "fef0e0a6",
   "metadata": {},
   "outputs": [
    {
     "name": "stdout",
     "output_type": "stream",
     "text": [
      "Array:\n",
      " [[1 2 3]\n",
      " [4 5 6]]\n",
      "shape: (2, 3)\n",
      "Number of dimensions: 2\n",
      "size(Number of elemnets): 6\n",
      "Data type: int64\n",
      "Items size(in bytes): 8\n"
     ]
    }
   ],
   "source": [
    "#Attributes of numpy Array\n",
    "arr= np.array([[1,2,3],[4,5,6]])\n",
    "\n",
    "print(\"Array:\\n\", arr)\n",
    "print(\"shape:\", arr.shape)\n",
    "print(\"Number of dimensions:\", arr.ndim)\n",
    "print(\"size(Number of elemnets):\", arr.size)\n",
    "print(\"Data type:\", arr.dtype)\n",
    "print(\"Items size(in bytes):\", arr.itemsize)"
   ]
  },
  {
   "cell_type": "code",
   "execution_count": 7,
   "id": "9eff15a9",
   "metadata": {},
   "outputs": [
    {
     "name": "stdout",
     "output_type": "stream",
     "text": [
      "addition: [11 22 33 49 55]\n",
      "Subtraction: [ 9 18 27 41 45]\n",
      "Multiplication: [ 10  40  90 180 250]\n",
      "Division [10.   10.   10.   11.25 10.  ]\n"
     ]
    }
   ],
   "source": [
    "#Numpy Vectorized operations\n",
    "arr1= np.array([1,2,3,4,5])\n",
    "arr2= np.array([10,20,30,45,50])\n",
    "\n",
    "# Element wise addition\n",
    "print(\"addition:\", arr1+arr2)\n",
    "\n",
    "# Element wise subtraction\n",
    "print(\"Subtraction:\", arr2-arr1)\n",
    "\n",
    "#Element wise multiplication\n",
    "print(\"Multiplication:\", arr1*arr2)\n",
    "\n",
    "#Element wise division\n",
    "print(\"Division\", arr2/arr1)"
   ]
  },
  {
   "cell_type": "code",
   "execution_count": 11,
   "id": "748d5b5a",
   "metadata": {},
   "outputs": [
    {
     "name": "stdout",
     "output_type": "stream",
     "text": [
      "[1.         1.41421356 1.73205081 2.         2.23606798]\n",
      "[  2.71828183   7.3890561   20.08553692  54.59815003 148.4131591 ]\n",
      "[ 0.84147098  0.90929743  0.14112001 -0.7568025  -0.95892427]\n",
      "[0.         0.69314718 1.09861229 1.38629436 1.60943791]\n"
     ]
    }
   ],
   "source": [
    "#Universal Function:\n",
    "\n",
    "arr= np.array([1,2,3,4,5])\n",
    "\n",
    "#Square root\n",
    "print(np.sqrt(arr))\n",
    "\n",
    "#Exponential \n",
    "\n",
    "print(np.exp(arr))\n",
    "\n",
    "#Sine\n",
    "print(np.sin(arr))\n",
    "\n",
    "#natural log\n",
    "print(np.log(arr))"
   ]
  },
  {
   "cell_type": "code",
   "execution_count": null,
   "id": "e3a2ccbc",
   "metadata": {},
   "outputs": [
    {
     "name": "stdout",
     "output_type": "stream",
     "text": [
      "array: \n",
      " [[ 1  2  3  4  5]\n",
      " [ 6  7  8  9 10]\n",
      " [11 12 13 14 15]]\n"
     ]
    }
   ],
   "source": [
    "#Array slicing and Indexing\n",
    "\n",
    "arr= np.array([[1,2,3,4,5],[6,7,8,9,10],[11,12,13,14,15]])\n",
    "print(\"array: \\n\", arr)"
   ]
  },
  {
   "cell_type": "code",
   "execution_count": 18,
   "id": "7392ea5d",
   "metadata": {},
   "outputs": [
    {
     "name": "stdout",
     "output_type": "stream",
     "text": [
      "1\n",
      "6\n",
      "11\n"
     ]
    }
   ],
   "source": [
    "print(arr[0][0])\n",
    "print(arr[1][0])\n",
    "print(arr[2][0])"
   ]
  },
  {
   "cell_type": "code",
   "execution_count": null,
   "id": "ee64a91b",
   "metadata": {},
   "outputs": [
    {
     "name": "stdout",
     "output_type": "stream",
     "text": [
      "[[ 4  5]\n",
      " [ 9 10]]\n"
     ]
    }
   ],
   "source": [
    "print(arr[0:2,3:]) # ineeded the last 2 columns of first 2 rows"
   ]
  },
  {
   "cell_type": "code",
   "execution_count": 31,
   "id": "7b1a2fe8",
   "metadata": {},
   "outputs": [
    {
     "name": "stdout",
     "output_type": "stream",
     "text": [
      "[[2 3]\n",
      " [7 8]]\n"
     ]
    }
   ],
   "source": [
    "print(arr[0:2, 1:3]) ## I needed the 2nd and 3rd column of first 2 rows"
   ]
  },
  {
   "cell_type": "code",
   "execution_count": 33,
   "id": "fa45e282",
   "metadata": {},
   "outputs": [
    {
     "name": "stdout",
     "output_type": "stream",
     "text": [
      "[[100   2   3   4   5]\n",
      " [  6   7   8   9  10]\n",
      " [ 11  12  13  14  15]]\n"
     ]
    }
   ],
   "source": [
    "#Modify erray elements:\n",
    "arr[0,0]=100\n",
    "print(arr)"
   ]
  },
  {
   "cell_type": "code",
   "execution_count": 37,
   "id": "954d6a87",
   "metadata": {},
   "outputs": [
    {
     "name": "stdout",
     "output_type": "stream",
     "text": [
      "[[100   2   3   4   5]\n",
      " [  6   7   8   9  10]\n",
      " [ 11  12  13  14  78]]\n"
     ]
    }
   ],
   "source": [
    "arr[2][4]= 78\n",
    "print(arr)"
   ]
  },
  {
   "cell_type": "code",
   "execution_count": 40,
   "id": "28067535",
   "metadata": {},
   "outputs": [
    {
     "name": "stdout",
     "output_type": "stream",
     "text": [
      "[[100   2   3   4   5]\n",
      " [100 100 100 100 100]\n",
      " [100 100 100 100 100]]\n"
     ]
    }
   ],
   "source": [
    "arr[1:]=100\n",
    "print(arr)"
   ]
  },
  {
   "cell_type": "code",
   "execution_count": 42,
   "id": "7f199fb6",
   "metadata": {},
   "outputs": [
    {
     "name": "stdout",
     "output_type": "stream",
     "text": [
      "[[  0   0   0   0   0]\n",
      " [  0   0   0   0   0]\n",
      " [100 100 100 100 100]]\n"
     ]
    }
   ],
   "source": [
    "arr[0:2]=0\n",
    "print(arr)"
   ]
  },
  {
   "cell_type": "code",
   "execution_count": 50,
   "id": "5be9b84a",
   "metadata": {},
   "outputs": [
    {
     "name": "stdout",
     "output_type": "stream",
     "text": [
      "Mean before Normaliztion is: 3.0\n",
      "Standard Deviation beofre normaliztion is: 1.4142135623730951\n",
      "[-1.41421356 -0.70710678  0.          0.70710678  1.41421356]\n"
     ]
    }
   ],
   "source": [
    "## Statistical concept --- Normalization\n",
    "#To have a mean of 0 and standard deviation of 1\n",
    "\n",
    "#Noramalization is a process to convert data in succh a way that mean become 0 and std deviation becomes 1\n",
    "\n",
    "data= np.array([1,2,3,4,5])\n",
    "\n",
    "#calculating the mean and standard deviation\n",
    "mean= np.mean(data)\n",
    "std_dev= np.std(data)\n",
    "\n",
    "print(\"Mean before Normaliztion is:\", mean)\n",
    "print(\"Standard Deviation beofre normaliztion is:\", std_dev)\n",
    "\n",
    "#Normalizing the data\n",
    "\n",
    "normalized_data= (data- mean)/std_dev\n",
    "print(normalized_data)\n",
    "\n"
   ]
  },
  {
   "cell_type": "code",
   "execution_count": 57,
   "id": "353623e3",
   "metadata": {},
   "outputs": [
    {
     "name": "stdout",
     "output_type": "stream",
     "text": [
      "5.5\n",
      "5.5\n",
      "2.8722813232690143\n",
      "8.25\n"
     ]
    }
   ],
   "source": [
    "data= np.array([1,2,3,4,5,6,7,8,9,10])\n",
    "\n",
    "mean= np.mean(data)\n",
    "print(mean)\n",
    "\n",
    "median=np.median(data)\n",
    "print(median)\n",
    "\n",
    "std_dev= np.std(data)\n",
    "print(std_dev)\n",
    "\n",
    "varaince= np.var(data)\n",
    "print(varaince)"
   ]
  },
  {
   "cell_type": "code",
   "execution_count": 61,
   "id": "68e28742",
   "metadata": {},
   "outputs": [
    {
     "data": {
      "text/plain": [
       "array([4, 5, 6])"
      ]
     },
     "execution_count": 61,
     "metadata": {},
     "output_type": "execute_result"
    }
   ],
   "source": [
    "#Logical Operation\n",
    "data= np.array([1,2,3,4,5,6,7,8,9,10])\n",
    "\n",
    "data[(data>3) & (data<7)]"
   ]
  },
  {
   "cell_type": "code",
   "execution_count": null,
   "id": "d558c7ae",
   "metadata": {},
   "outputs": [],
   "source": []
  }
 ],
 "metadata": {
  "kernelspec": {
   "display_name": "Python 3",
   "language": "python",
   "name": "python3"
  },
  "language_info": {
   "codemirror_mode": {
    "name": "ipython",
    "version": 3
   },
   "file_extension": ".py",
   "mimetype": "text/x-python",
   "name": "python",
   "nbconvert_exporter": "python",
   "pygments_lexer": "ipython3",
   "version": "3.13.5"
  }
 },
 "nbformat": 4,
 "nbformat_minor": 5
}
